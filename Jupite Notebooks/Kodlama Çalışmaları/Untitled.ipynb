{
 "cells": [
  {
   "cell_type": "code",
   "execution_count": 1,
   "metadata": {},
   "outputs": [
    {
     "name": "stdout",
     "output_type": "stream",
     "text": [
      "[6, 28, 496]\n"
     ]
    }
   ],
   "source": [
    "def mukemmel_sayi_bulma():\n",
    "    mukemmel_sayilar = list()\n",
    "    for sayi in range(1,1001):\n",
    "        bolenler = list()\n",
    "        toplam = 0\n",
    "        for bolen in range(1,sayi):\n",
    "            if sayi % bolen == 0:\n",
    "                bolenler.append(bolen)\n",
    "        for i in bolenler:\n",
    "            toplam += i\n",
    "        if sayi == toplam:\n",
    "            mukemmel_sayilar.append(sayi)\n",
    "    return mukemmel_sayilar\n",
    "print(mukemmel_sayi_bulma())"
   ]
  },
  {
   "cell_type": "code",
   "execution_count": null,
   "metadata": {},
   "outputs": [],
   "source": []
  }
 ],
 "metadata": {
  "kernelspec": {
   "display_name": "Python 3",
   "language": "python",
   "name": "python3"
  },
  "language_info": {
   "codemirror_mode": {
    "name": "ipython",
    "version": 3
   },
   "file_extension": ".py",
   "mimetype": "text/x-python",
   "name": "python",
   "nbconvert_exporter": "python",
   "pygments_lexer": "ipython3",
   "version": "3.7.0"
  }
 },
 "nbformat": 4,
 "nbformat_minor": 2
}
